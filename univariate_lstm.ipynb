{
  "nbformat": 4,
  "nbformat_minor": 0,
  "metadata": {
    "colab": {
      "name": "univariate_lstm.ipynb",
      "provenance": [],
      "collapsed_sections": [],
      "authorship_tag": "ABX9TyP+hdZy6F3g4DWDdJkepXNi",
      "include_colab_link": true
    },
    "kernelspec": {
      "name": "python3",
      "display_name": "Python 3"
    }
  },
  "cells": [
    {
      "cell_type": "markdown",
      "metadata": {
        "id": "view-in-github",
        "colab_type": "text"
      },
      "source": [
        "<a href=\"https://colab.research.google.com/github/MikelBros/LSTM_Tutorial/blob/master/univariate_lstm.ipynb\" target=\"_parent\"><img src=\"https://colab.research.google.com/assets/colab-badge.svg\" alt=\"Open In Colab\"/></a>"
      ]
    },
    {
      "cell_type": "markdown",
      "metadata": {
        "id": "gEQhh3VaiLi9",
        "colab_type": "text"
      },
      "source": [
        "## UNIVARIATE LSTM\n",
        "\n",
        "The idea here is to learn a model to map obeservations from a subset of past observations, in order to predict to predict the next value in the sequence."
      ]
    },
    {
      "cell_type": "markdown",
      "metadata": {
        "id": "VjRXtWUlICQ0",
        "colab_type": "text"
      },
      "source": [
        "### The data\n",
        "\n",
        "A sinus signal sampled at 100 equidistant values between 0 and 2pi"
      ]
    },
    {
      "cell_type": "code",
      "metadata": {
        "id": "x80TJh9eiQu8",
        "colab_type": "code",
        "outputId": "26b85d80-640b-4ebb-d8a6-8c8f18f5ac77",
        "colab": {
          "base_uri": "https://localhost:8080/",
          "height": 282
        }
      },
      "source": [
        "# univariate lstm example\n",
        "import numpy as np\n",
        "from sklearn import metrics\n",
        "from numpy import array\n",
        "from keras.models import Sequential\n",
        "from keras.layers import LSTM\n",
        "from keras.layers import Dense\n",
        "from sklearn.model_selection import train_test_split\n",
        "import matplotlib.pyplot as plt\n",
        "\n",
        "\n",
        "# split a univariate sequence into samples\n",
        "def split_sequence(sequence, n_steps):\n",
        "\tX, y = list(), list()\n",
        "\tfor i in range(len(sequence)):\n",
        "\t\t# find the end of this pattern\n",
        "\t\tend_ix = i + n_steps\n",
        "\t\t# check if we are beyond the sequence\n",
        "\t\tif end_ix > len(sequence)-1:\n",
        "\t\t\tbreak\n",
        "\t\t# gather input and output parts of the pattern\n",
        "\t\tseq_x, seq_y = sequence[i:end_ix], sequence[end_ix]\n",
        "\t\tX.append(seq_x)\n",
        "\t\ty.append(seq_y)\n",
        "\treturn array(X), array(y)\n",
        " \n",
        "\n",
        "# Sample 100 equidistant values between 0 and 2pi\n",
        "x = np.linspace(0, 2 * np.pi, 100)\n",
        "raw_seq = np.sin(x)\n",
        "\n",
        "raw_seq_ = raw_seq[20:23]\n",
        "x_ = x[20:23]\n",
        "print(raw_seq_)\n",
        "\n",
        "plt.plot(x, raw_seq)\n",
        "plt.scatter(x_, raw_seq_, color='blue', s=50, marker = '.')\n",
        "plt.scatter(x[23], raw_seq[23], color='red', s=50, marker = '.')\n",
        "plt.grid()\n",
        "\n"
      ],
      "execution_count": 5,
      "outputs": [
        {
          "output_type": "stream",
          "text": [
            "[0.95490224 0.97181157 0.98480775]\n"
          ],
          "name": "stdout"
        },
        {
          "output_type": "display_data",
          "data": {
            "image/png": "[encoded data removed]",
            "text/plain": [
              "<Figure size 432x288 with 1 Axes>"
            ]
          },
          "metadata": {
            "tags": []
          }
        }
      ]
    },
    {
      "cell_type": "markdown",
      "metadata": {
        "id": "aaIWMx41Sdok",
        "colab_type": "text"
      },
      "source": [
        "### Data packing\n",
        "\n",
        "The data is then split in chunks of 3 consecutive values. The value following these three values is used as the target for this sequence"
      ]
    },
    {
      "cell_type": "code",
      "metadata": {
        "id": "Brt2vVux4Mos",
        "colab_type": "code",
        "outputId": "cd03050d-f5e0-4877-8aa6-a600029c49d6",
        "colab": {
          "base_uri": "https://localhost:8080/",
          "height": 52
        }
      },
      "source": [
        "# choose a number of time steps\n",
        "n_steps = 3\n",
        "# split into samples\n",
        "X, y = split_sequence(raw_seq, n_steps)\n",
        "\n",
        "print('Train subset:', X[0], '\\tTarget:', y[0])\n",
        "print('Train subset:', X[1], '\\tTarget:', y[1])"
      ],
      "execution_count": 6,
      "outputs": [
        {
          "output_type": "stream",
          "text": [
            "Train subset: [0.         0.06342392 0.12659245] \tTarget: 0.18925124436041021\n",
            "Train subset: [0.06342392 0.12659245 0.18925124] \tTarget: 0.2511479871810792\n"
          ],
          "name": "stdout"
        }
      ]
    },
    {
      "cell_type": "code",
      "metadata": {
        "id": "NOE1FQxT5I7K",
        "colab_type": "code",
        "outputId": "d9823b03-e710-41af-d39c-655b0f708da5",
        "colab": {
          "base_uri": "https://localhost:8080/",
          "height": 34
        }
      },
      "source": [
        "# We have created a function to print accuracy metrics which can be used\n",
        "# to get accuracy metrics of all models in upcoming steps\n",
        "def print_accuracy_report(y_test, y_pred):\n",
        "    print('Mean Absolute Error:', metrics.mean_absolute_error(y_test, y_pred))\n",
        "    #print('Mean Squared Error:', metrics.mean_squared_error(y_test, y_pred))\n",
        "    #print('Root Mean Squared Error:', np.sqrt(metrics.mean_squared_error(y_test, y_pred)))\n",
        "    #print('Root Mean Squared Log Error', np.sqrt(metrics.mean_squared_log_error(y_test, y_pred)))\n",
        "\n",
        "\n",
        "# split the sequence in a train and test set\n",
        "X_train, X_test, y_train, y_test = train_test_split(X, y,random_state=42, test_size=0.2,shuffle=True)\n",
        "\n",
        "# reshape from [samples, timesteps] into [samples, timesteps, features]\n",
        "n_features = 1\n",
        "X_train = X_train.reshape((X_train.shape[0], X_train.shape[1], n_features))\n",
        "X_test = X_test.reshape((X_test.shape[0], X_test.shape[1], n_features))\n",
        "# define model\n",
        "model = Sequential()\n",
        "model.add(LSTM(50, activation='relu', input_shape=(n_steps, n_features)))\n",
        "model.add(Dense(1))\n",
        "model.compile(optimizer='adam', loss='mse')\n",
        "\n",
        "# fit model\n",
        "model.fit(X_train, y_train, epochs=2000, verbose=0)\n",
        "\n",
        "# check the accuracy of the model\n",
        "yhat = model.predict(X_test, verbose=0)\n",
        "print_accuracy_report(y_test, yhat)"
      ],
      "execution_count": 7,
      "outputs": [
        {
          "output_type": "stream",
          "text": [
            "Mean Absolute Error: 0.01097276488672452\n"
          ],
          "name": "stdout"
        }
      ]
    },
    {
      "cell_type": "code",
      "metadata": {
        "id": "lSRnUGL-tt_l",
        "colab_type": "code",
        "outputId": "c78ae489-e445-4e1b-eed4-4b9132b3976f",
        "colab": {
          "base_uri": "https://localhost:8080/",
          "height": 282
        }
      },
      "source": [
        "# demonstrate predictions\n",
        "for i in range(0, 100, 4):\n",
        "  x_t = x[i:i+n_steps]\n",
        "  x_input = raw_seq[i:i+n_steps]\n",
        "  plt.plot(x_t, x_input, color='red')\n",
        "  x_input = x_input.reshape((1, n_steps, n_features))\n",
        "  yhat = model.predict(x_input, verbose=0)\n",
        "  plt.scatter(x[i+n_steps], yhat, color='blue')\n",
        "\n",
        "plt.scatter(0, 0, color='blue', label='predictions')\n",
        "\n",
        "#plt.plot(x, raw_seq, color='red', label='original signal')\n",
        "plt.grid()\n",
        "plt.legend()\n",
        "\n",
        "print(yhat)"
      ],
      "execution_count": 8,
      "outputs": [
        {
          "output_type": "stream",
          "text": [
            "[[-0.0112473]]\n"
          ],
          "name": "stdout"
        },
        {
          "output_type": "display_data",
          "data": {
            "image/png": "[encoded data removed]",
            "text/plain": [
              "<Figure size 432x288 with 1 Axes>"
            ]
          },
          "metadata": {
            "tags": []
          }
        }
      ]
    },
    {
      "cell_type": "code",
      "metadata": {
        "id": "ihWpcMOItR8T",
        "colab_type": "code",
        "outputId": "719e0fd3-d210-4186-afe2-859736d17fed",
        "colab": {
          "base_uri": "https://localhost:8080/",
          "height": 364
        }
      },
      "source": [
        "# We stacked the data in the example before so we can reuse it. However,\n",
        "# we need to define a new split function\n",
        "def split_sequences(sequences, n_steps_in, n_steps_out):\n",
        "\tX, y = list(), list()\n",
        "\tfor i in range(len(sequences)):\n",
        "\t\t# find the end of this pattern\n",
        "\t\tend_ix = i + n_steps_in\n",
        "\t\tout_end_ix = end_ix + n_steps_out\n",
        "\t\t# check if we are beyond the dataset\n",
        "\t\tif out_end_ix > len(sequences):\n",
        "\t\t\tbreak\n",
        "\t\t#if len(sequences[i:end_ix, :-1]) <= n_steps_in:\n",
        "\t\t#\tbreak\n",
        "\t\t#if len(sequences[end_ix:out_end_ix, -1]) <= n_steps_out:\n",
        "\t\t#\tbreak\n",
        "\t\t# gather input and output parts of the pattern\n",
        "\t\tseq_x, seq_y = sequences[i:end_ix, :-1], sequences[end_ix:out_end_ix, -1]\n",
        "\t\tX.append(seq_x)\n",
        "\t\ty.append(seq_y)\n",
        "\treturn array(X), array(y)\n",
        "\n",
        "\n",
        "# choose a number of time steps\n",
        "n_steps_in, n_steps_out = 3, 4\n",
        "# convert into input/output\n",
        "X, y = split_sequences(dataset, n_steps_in, n_steps_out)\n",
        "\n",
        "print(raw_seq_a[0:3])\n",
        "print(raw_seq_b[0:3])\n",
        "print(out_seq[0:(n_steps_in+n_steps_out)])\n",
        "print(X.shape, y.shape)\n",
        "print(X[0], y[0])\n",
        "print(X[1], y[1])"
      ],
      "execution_count": 0,
      "outputs": [
        {
          "output_type": "stream",
          "text": [
            "[[-0.47942554]\n",
            " [-0.42280057]\n",
            " [-0.36447314]]\n",
            "[[0.47942554]\n",
            " [0.53412003]\n",
            " [0.5866638 ]]\n",
            "[[0.        ]\n",
            " [0.11131945]\n",
            " [0.22219066]\n",
            " [0.33216718]\n",
            " [0.44080619]\n",
            " [0.54767022]\n",
            " [0.65232898]]\n",
            "(94, 3, 2) (94, 4)\n",
            "[[-0.47942554  0.47942554]\n",
            " [-0.42280057  0.53412003]\n",
            " [-0.36447314  0.5866638 ]] [0.33216718 0.44080619 0.54767022 0.65232898]\n",
            "[[-0.42280057  0.53412003]\n",
            " [-0.36447314  0.5866638 ]\n",
            " [-0.3046781   0.63684529]] [0.44080619 0.54767022 0.65232898 0.75436104]\n"
          ],
          "name": "stdout"
        }
      ]
    },
    {
      "cell_type": "code",
      "metadata": {
        "id": "DPJftjeIxEic",
        "colab_type": "code",
        "outputId": "debe989b-9f31-4e04-afff-df4b6ab37b56",
        "colab": {
          "base_uri": "https://localhost:8080/",
          "height": 34
        }
      },
      "source": [
        "# split the sequence in a train and test set\n",
        "X_train, X_test, y_train, y_test = train_test_split(X, \n",
        "                                                    y, \n",
        "                                                    random_state=42, \n",
        "                                                    test_size=0.2,\n",
        "                                                    shuffle=True)\n",
        "\n",
        "# the dataset knows the number of features, e.g. 2\n",
        "n_features = X.shape[2]\n",
        "\n",
        "# define model\n",
        "model = Sequential()\n",
        "model.add(LSTM(100, activation='relu', return_sequences=True, input_shape=(n_steps_in, n_features)))\n",
        "model.add(LSTM(100, activation='relu'))\n",
        "model.add(Dense(n_steps_out))\n",
        "model.compile(optimizer='adam', loss='mse')\n",
        "\n",
        "# fit model\n",
        "model.fit(X_train, y_train, epochs=2000, verbose=0)\n",
        "\n",
        "# check the accuracy of the model\n",
        "yhat = model.predict(X_test, verbose=0)\n",
        "print_accuracy_report(y_test, yhat)"
      ],
      "execution_count": 0,
      "outputs": [
        {
          "output_type": "stream",
          "text": [
            "Mean Absolute Error: 0.0011541578998730386\n"
          ],
          "name": "stdout"
        }
      ]
    },
    {
      "cell_type": "code",
      "metadata": {
        "id": "FclbMgxyx1JP",
        "colab_type": "code",
        "outputId": "0809bddf-8877-4760-dbbb-be20a69b6363",
        "colab": {
          "base_uri": "https://localhost:8080/",
          "height": 282
        }
      },
      "source": [
        "max_ = 20\n",
        "\n",
        "# demonstrate predictions\n",
        "for i in range(0, max_, (n_steps_in+n_steps_out+1)):\n",
        "  # Notice that the training was peformed on data between [0, 2pi)!\n",
        "  # The model has learned non-linear transform between the shifted sinus \n",
        "  # functions to a third sinus wave\n",
        "  x = np.linspace(0 * np.pi, 2 * np.pi, 100)\n",
        "  x_t = x[i:i+n_steps_in]\n",
        "  #print(len(x_t))\n",
        "  input_a = raw_seq_a[i:i+n_steps_in]\n",
        "  input_b = raw_seq_b[i:i+n_steps_in]\n",
        "  input_ = hstack((input_a, input_b))\n",
        "  plt.plot(x_t, input_a, color='red', marker = '.')\n",
        "  plt.plot(x_t, input_b, color='red', marker = 'x')\n",
        "  input_ = input_.reshape((1, n_steps_in, n_features))\n",
        "  yhat = model.predict(input_, verbose=0)\n",
        "  #print(yhat[0])\n",
        "  #print(len(x[i+n_steps_in:i+n_steps_in+4]))\n",
        "  if len(x[(i+n_steps_in):(i+n_steps_in+n_steps_out)]) == n_steps_out:\n",
        "    plt.scatter(x[(i+n_steps_in):(i+n_steps_in+n_steps_out)], \n",
        "                yhat[0], \n",
        "                color='blue')\n",
        "  else:\n",
        "    pass\n",
        "    \n",
        "  \n",
        "#plt.scatter(x[i+n_steps_in:i+n_steps_in+4], yhat, color='blue', label='predictions')\n",
        "plt.plot(x_t, input_a, color='red', marker = '.', label='sampled input data 1')\n",
        "plt.plot(x_t, input_b, color='red', marker = 'x', label='sampled input data 2')\n",
        "plt.plot(x[0:max_], raw_seq_a[0:max_], label='original signal 1')\n",
        "plt.plot(x[0:max_], raw_seq_b[0:max_], label='original signal 2')\n",
        "plt.plot(x[0:max_], out_seq[0:max_], label='target')\n",
        "\n",
        "plt.grid()\n",
        "plt.legend()"
      ],
      "execution_count": 0,
      "outputs": [
        {
          "output_type": "execute_result",
          "data": {
            "text/plain": [
              "<matplotlib.legend.Legend at 0x7f46865a1518>"
            ]
          },
          "metadata": {
            "tags": []
          },
          "execution_count": 84
        },
        {
          "output_type": "display_data",
          "data": {
            "image/png": "[encoded data removed]",
            "text/plain": [
              "<Figure size 432x288 with 1 Axes>"
            ]
          },
          "metadata": {
            "tags": []
          }
        }
      ]
    }
  ]
}