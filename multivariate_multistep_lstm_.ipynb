{
  "nbformat": 4,
  "nbformat_minor": 0,
  "metadata": {
    "colab": {
      "name": "multivariate_multistep_lstm .ipynb",
      "provenance": [],
      "authorship_tag": "ABX9TyO8oUorie0tKXJdcUvGp25+",
      "include_colab_link": true
    },
    "kernelspec": {
      "name": "python3",
      "display_name": "Python 3"
    }
  },
  "cells": [
    {
      "cell_type": "markdown",
      "metadata": {
        "id": "view-in-github",
        "colab_type": "text"
      },
      "source": [
        "<a href=\"https://colab.research.google.com/github/MikelBros/LSTM_Tutorial/blob/master/multivariate_multistep_lstm_.ipynb\" target=\"_parent\"><img src=\"https://colab.research.google.com/assets/colab-badge.svg\" alt=\"Open In Colab\"/></a>"
      ]
    },
    {
      "cell_type": "code",
      "metadata": {
        "id": "q3LyJo_yifM8",
        "colab_type": "code",
        "colab": {
          "base_uri": "https://localhost:8080/",
          "height": 364
        },
        "outputId": "19b99bcf-e48e-4985-f219-033176fcfff4"
      },
      "source": [
        "# multivariate lstm example\n",
        "from numpy import array\n",
        "from numpy import hstack\n",
        "import numpy as np\n",
        "from sklearn import metrics\n",
        "from numpy import array\n",
        "from keras.models import Sequential\n",
        "from keras.layers import LSTM\n",
        "from keras.layers import Dense\n",
        "import matplotlib.pyplot as plt\n",
        "from sklearn.model_selection import train_test_split\n",
        "\n",
        "\n",
        "# We have created a function to print accuracy metrics which can be used\n",
        "# to get accuracy metrics of all models in upcoming steps\n",
        "def print_accuracy_report(y_test, y_pred):\n",
        "    print('Mean Absolute Error:', metrics.mean_absolute_error(y_test, y_pred))\n",
        "\n",
        "\n",
        "# We stacked the data in the example before so we can reuse it. However,\n",
        "# we need to define a new split function\n",
        "def split_sequences(sequences, n_steps_in, n_steps_out):\n",
        "\tX, y = list(), list()\n",
        "\tfor i in range(len(sequences)):\n",
        "\t\t# find the end of this pattern\n",
        "\t\tend_ix = i + n_steps_in\n",
        "\t\tout_end_ix = end_ix + n_steps_out\n",
        "\t\t# check if we are beyond the dataset\n",
        "\t\tif out_end_ix > len(sequences):\n",
        "\t\t\tbreak\n",
        "\t\t#if len(sequences[i:end_ix, :-1]) <= n_steps_in:\n",
        "\t\t#\tbreak\n",
        "\t\t#if len(sequences[end_ix:out_end_ix, -1]) <= n_steps_out:\n",
        "\t\t#\tbreak\n",
        "\t\t# gather input and output parts of the pattern\n",
        "\t\tseq_x, seq_y = sequences[i:end_ix, :-1], sequences[end_ix:out_end_ix, -1]\n",
        "\t\tX.append(seq_x)\n",
        "\t\ty.append(seq_y)\n",
        "\treturn array(X), array(y)\n",
        "\n",
        "\n",
        "# define input sequence\n",
        "x = np.linspace(0, 2 * np.pi, 100)\n",
        "raw_seq_a = np.sin(x-0.5)\n",
        "raw_seq_b = np.sin(x+0.5)\n",
        "out_seq = array([raw_seq_a[i]+raw_seq_b[i] for i in range(len(raw_seq_a))])\n",
        "\n",
        "# convert to [rows, columns] structure\n",
        "raw_seq_a = raw_seq_a.reshape((len(raw_seq_a), 1))\n",
        "raw_seq_b = raw_seq_b.reshape((len(raw_seq_b), 1))\n",
        "out_seq = out_seq.reshape((len(out_seq), 1))\n",
        "\n",
        "# horizontally stack columns\n",
        "dataset = hstack((raw_seq_a, raw_seq_b, out_seq))\n",
        "\n",
        "# choose a number of time steps\n",
        "n_steps_in, n_steps_out = 3, 4\n",
        "# convert into input/output\n",
        "X, y = split_sequences(dataset, n_steps_in, n_steps_out)\n",
        "\n",
        "print(raw_seq_a[0:3])\n",
        "print(raw_seq_b[0:3])\n",
        "print(out_seq[0:(n_steps_in+n_steps_out)])\n",
        "print(X.shape, y.shape)\n",
        "print(X[0], y[0])\n",
        "print(X[1], y[1])"
      ],
      "execution_count": 3,
      "outputs": [
        {
          "output_type": "stream",
          "text": [
            "[[-0.47942554]\n",
            " [-0.42280057]\n",
            " [-0.36447314]]\n",
            "[[0.47942554]\n",
            " [0.53412003]\n",
            " [0.5866638 ]]\n",
            "[[0.        ]\n",
            " [0.11131945]\n",
            " [0.22219066]\n",
            " [0.33216718]\n",
            " [0.44080619]\n",
            " [0.54767022]\n",
            " [0.65232898]]\n",
            "(94, 3, 2) (94, 4)\n",
            "[[-0.47942554  0.47942554]\n",
            " [-0.42280057  0.53412003]\n",
            " [-0.36447314  0.5866638 ]] [0.33216718 0.44080619 0.54767022 0.65232898]\n",
            "[[-0.42280057  0.53412003]\n",
            " [-0.36447314  0.5866638 ]\n",
            " [-0.3046781   0.63684529]] [0.44080619 0.54767022 0.65232898 0.75436104]\n"
          ],
          "name": "stdout"
        }
      ]
    },
    {
      "cell_type": "code",
      "metadata": {
        "id": "vv2l-qGwjHGA",
        "colab_type": "code",
        "colab": {
          "base_uri": "https://localhost:8080/",
          "height": 503
        },
        "outputId": "43986239-b66a-4af4-df2d-3ed795b576e6"
      },
      "source": [
        "# split the sequence in a train and test set\n",
        "X_train, X_test, y_train, y_test = train_test_split(X, \n",
        "                                                    y, \n",
        "                                                    random_state=42, \n",
        "                                                    test_size=0.2,\n",
        "                                                    shuffle=True)\n",
        "\n",
        "# the dataset knows the number of features, e.g. 2\n",
        "n_features = X.shape[2]\n",
        "\n",
        "# define model\n",
        "model = Sequential()\n",
        "model.add(LSTM(100, activation='relu', return_sequences=True, input_shape=(n_steps_in, n_features)))\n",
        "model.add(LSTM(100, activation='relu'))\n",
        "model.add(Dense(n_steps_out))\n",
        "model.compile(optimizer='adam', loss='mse')\n",
        "\n",
        "# fit model\n",
        "model.fit(X_train, y_train, epochs=2000, verbose=0)\n",
        "\n",
        "# check the accuracy of the model\n",
        "yhat = model.predict(X_test, verbose=0)\n",
        "print_accuracy_report(y_test, yhat)"
      ],
      "execution_count": 4,
      "outputs": [
        {
          "output_type": "stream",
          "text": [
            "WARNING:tensorflow:From /usr/local/lib/python3.6/dist-packages/keras/backend/tensorflow_backend.py:66: The name tf.get_default_graph is deprecated. Please use tf.compat.v1.get_default_graph instead.\n",
            "\n",
            "WARNING:tensorflow:From /usr/local/lib/python3.6/dist-packages/keras/backend/tensorflow_backend.py:541: The name tf.placeholder is deprecated. Please use tf.compat.v1.placeholder instead.\n",
            "\n",
            "WARNING:tensorflow:From /usr/local/lib/python3.6/dist-packages/keras/backend/tensorflow_backend.py:4432: The name tf.random_uniform is deprecated. Please use tf.random.uniform instead.\n",
            "\n",
            "WARNING:tensorflow:From /usr/local/lib/python3.6/dist-packages/keras/optimizers.py:793: The name tf.train.Optimizer is deprecated. Please use tf.compat.v1.train.Optimizer instead.\n",
            "\n",
            "WARNING:tensorflow:From /usr/local/lib/python3.6/dist-packages/tensorflow_core/python/ops/math_grad.py:1424: where (from tensorflow.python.ops.array_ops) is deprecated and will be removed in a future version.\n",
            "Instructions for updating:\n",
            "Use tf.where in 2.0, which has the same broadcast rule as np.where\n",
            "WARNING:tensorflow:From /usr/local/lib/python3.6/dist-packages/keras/backend/tensorflow_backend.py:1033: The name tf.assign_add is deprecated. Please use tf.compat.v1.assign_add instead.\n",
            "\n",
            "WARNING:tensorflow:From /usr/local/lib/python3.6/dist-packages/keras/backend/tensorflow_backend.py:1020: The name tf.assign is deprecated. Please use tf.compat.v1.assign instead.\n",
            "\n",
            "WARNING:tensorflow:From /usr/local/lib/python3.6/dist-packages/keras/backend/tensorflow_backend.py:3005: The name tf.Session is deprecated. Please use tf.compat.v1.Session instead.\n",
            "\n",
            "WARNING:tensorflow:From /usr/local/lib/python3.6/dist-packages/keras/backend/tensorflow_backend.py:190: The name tf.get_default_session is deprecated. Please use tf.compat.v1.get_default_session instead.\n",
            "\n",
            "WARNING:tensorflow:From /usr/local/lib/python3.6/dist-packages/keras/backend/tensorflow_backend.py:197: The name tf.ConfigProto is deprecated. Please use tf.compat.v1.ConfigProto instead.\n",
            "\n",
            "WARNING:tensorflow:From /usr/local/lib/python3.6/dist-packages/keras/backend/tensorflow_backend.py:207: The name tf.global_variables is deprecated. Please use tf.compat.v1.global_variables instead.\n",
            "\n",
            "WARNING:tensorflow:From /usr/local/lib/python3.6/dist-packages/keras/backend/tensorflow_backend.py:216: The name tf.is_variable_initialized is deprecated. Please use tf.compat.v1.is_variable_initialized instead.\n",
            "\n",
            "WARNING:tensorflow:From /usr/local/lib/python3.6/dist-packages/keras/backend/tensorflow_backend.py:223: The name tf.variables_initializer is deprecated. Please use tf.compat.v1.variables_initializer instead.\n",
            "\n",
            "Mean Absolute Error: 0.003712351100975498\n"
          ],
          "name": "stdout"
        }
      ]
    },
    {
      "cell_type": "code",
      "metadata": {
        "id": "AAOhJDsojJ0L",
        "colab_type": "code",
        "colab": {}
      },
      "source": [
        "max_ = 20\n",
        "\n",
        "# demonstrate predictions\n",
        "for i in range(0, max_, (n_steps_in+n_steps_out+1)):\n",
        "  # Notice that the training was peformed on data between [0, 2pi)!\n",
        "  # The model has learned non-linear transform between the shifted sinus \n",
        "  # functions to a third sinus wave\n",
        "  x = np.linspace(0 * np.pi, 2 * np.pi, 100)\n",
        "  x_t = x[i:i+n_steps_in]\n",
        "  #print(len(x_t))\n",
        "  input_a = raw_seq_a[i:i+n_steps_in]\n",
        "  input_b = raw_seq_b[i:i+n_steps_in]\n",
        "  input_ = hstack((input_a, input_b))\n",
        "  plt.plot(x_t, input_a, color='red', marker = '.')\n",
        "  plt.plot(x_t, input_b, color='red', marker = 'x')\n",
        "  input_ = input_.reshape((1, n_steps_in, n_features))\n",
        "  yhat = model.predict(input_, verbose=0)\n",
        "  #print(yhat[0])\n",
        "  #print(len(x[i+n_steps_in:i+n_steps_in+4]))\n",
        "  if len(x[(i+n_steps_in):(i+n_steps_in+n_steps_out)]) == n_steps_out:\n",
        "    plt.scatter(x[(i+n_steps_in):(i+n_steps_in+n_steps_out)], \n",
        "                yhat[0], \n",
        "                color='blue')\n",
        "  else:\n",
        "    pass\n",
        "    \n",
        "  \n",
        "#plt.scatter(x[i+n_steps_in:i+n_steps_in+4], yhat, color='blue', label='predictions')\n",
        "plt.plot(x_t, input_a, color='red', marker = '.', label='sampled input data 1')\n",
        "plt.plot(x_t, input_b, color='red', marker = 'x', label='sampled input data 2')\n",
        "plt.plot(x[0:max_], raw_seq_a[0:max_], label='original signal 1')\n",
        "plt.plot(x[0:max_], raw_seq_b[0:max_], label='original signal 2')\n",
        "plt.plot(x[0:max_], out_seq[0:max_], label='target')\n",
        "\n",
        "plt.grid()\n",
        "plt.legend()"
      ],
      "execution_count": 0,
      "outputs": []
    }
  ]
}